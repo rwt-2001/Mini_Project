{
 "cells": [
  {
   "cell_type": "code",
   "execution_count": 1,
   "id": "536d01a4",
   "metadata": {},
   "outputs": [],
   "source": [
    "import cv2\n",
    "import matplotlib.pyplot as plt\n",
    "import numpy as np\n",
    "import os\n",
    "import time"
   ]
  },
  {
   "cell_type": "markdown",
   "id": "4261c613",
   "metadata": {},
   "source": [
    "# Completed"
   ]
  },
  {
   "cell_type": "code",
   "execution_count": 2,
   "id": "3b74a441",
   "metadata": {},
   "outputs": [],
   "source": [
    "parent_directory = \"./DataCollected\""
   ]
  },
  {
   "cell_type": "code",
   "execution_count": 3,
   "id": "6b1bf332",
   "metadata": {},
   "outputs": [],
   "source": [
    "test = \"/Test\"\n",
    "train =\"/Train\"\n",
    "path_test = parent_directory + test\n",
    "path_train = parent_directory + train"
   ]
  },
  {
   "cell_type": "code",
   "execution_count": 4,
   "id": "3d5915da",
   "metadata": {},
   "outputs": [],
   "source": [
    "#Setup Main Train, Test Folders\n",
    "if not os.path.exists(parent_directory):\n",
    "    os.mkdir(parent_directory)\n",
    "if not os.path.exists(path_test):\n",
    "    os.mkdir(path_test)\n",
    "if not os.path.exists(path_train):\n",
    "    os.mkdir(path_train)"
   ]
  },
  {
   "cell_type": "code",
   "execution_count": 5,
   "id": "81aae4c5",
   "metadata": {},
   "outputs": [],
   "source": [
    "#Specifying an Area for taking input \n",
    "#Make position\n",
    "# cap = cv2.VideoCapture(0)\n",
    "# i = 1\n",
    "# while True:\n",
    "#     ret, frame = cap.read(0)\n",
    "#     cv2.putText(frame,str(i),(50,100),cv2.FONT_HERSHEY_SIMPLEX,1,(255,0,0))\n",
    "#     cv2.rectangle(frame,pt1=(350,50),pt2=(580,250),thickness=2,color=(250,0,0))\n",
    "#     cv2.imshow(\"Frame\", frame)\n",
    "#     time.sleep(0.2)\n",
    "#     cv2.imwrite(\"./img1.jpg\",frame[52:248, 352:578])\n",
    "#     print(frame.shape)\n",
    "#     c = cv2.waitKey(1)\n",
    "#     i+=1\n",
    "#     if c==27:\n",
    "#         break\n",
    "# cap.release()\n",
    "# cv2.destroyAllWindows()"
   ]
  },
  {
   "cell_type": "code",
   "execution_count": null,
   "id": "8a5117c0",
   "metadata": {},
   "outputs": [
    {
     "name": "stdout",
     "output_type": "stream",
     "text": [
      "Enter the Symbol (Or Enter Esc to exit): A\n",
      "Collecting Image for Training data\n",
      "Collecting Images for testing data\n"
     ]
    }
   ],
   "source": [
    "while True: \n",
    "    \n",
    "    Image_label = input(\"Enter the Symbol(Enter Esc to exit): \")\n",
    "    \n",
    "    if Image_label.lower() == \"esc\":\n",
    "        print(\"Process Ended\")\n",
    "        break\n",
    "    \n",
    "    #Position Setting\n",
    "    cap = cv2.VideoCapture(0)\n",
    "    i = 1\n",
    "    while True:\n",
    "        ret, frame = cap.read(0)\n",
    "        cv2.putText(frame,\"Set hand position inside Box and press Esc to start\",(20,400),cv2.FONT_HERSHEY_SIMPLEX,1,(255,0,0))\n",
    "        cv2.rectangle(frame,pt1=(350,50),pt2=(580,250),thickness=2,color=(250,0,0))\n",
    "        cv2.imshow(\"Frame\", frame)\n",
    "        cv2.imwrite(\"./demo.jpg\",frame[52:248, 352:578])\n",
    "#         print(frame.shape)\n",
    "        c = cv2.waitKey(1)\n",
    "        i+=1\n",
    "        if c==27:\n",
    "            break\n",
    "    cap.release()\n",
    "    cv2.destroyAllWindows()\n",
    "    \n",
    "    #Taken frame Shape = h=480 w=640 (480,640,3)\n",
    "    \n",
    "    #Data Collection\n",
    "    while True:\n",
    "        \n",
    "        test_image_path = path_test+\"/\"+Image_label+\"/\"\n",
    "        train_image_path = path_train+\"/\"+Image_label+\"/\"\n",
    "\n",
    "        #Setup Folder for each label\n",
    "        #If path for Image with given label doesn't exist\n",
    "        if not os.path.exists(test_image_path):\n",
    "            os.mkdir(test_image_path)\n",
    "        if not os.path.exists(train_image_path):\n",
    "            os.mkdir(train_image_path)\n",
    "\n",
    "        #Get 1000 images for Training data\n",
    "        print(\"Collecting Image for Training data\")\n",
    "        time.sleep(1)\n",
    "        cap1 = cv2.VideoCapture(0)\n",
    "        for i in range(500):            \n",
    "            ret, frame = cap1.read(0)\n",
    "            #Image name\n",
    "            imgname = str(i)+\".jpg\"\n",
    "            #Image full path location\n",
    "            img_path= train_image_path+imgname\n",
    "\n",
    "            cv2.putText(frame,str(i),(50,100),cv2.FONT_HERSHEY_SIMPLEX,1,(255,0,0))\n",
    "            cv2.rectangle(frame,pt1=(350,50),pt2=(580,250),thickness=2,color=(250,0,0))\n",
    "            cv2.imshow('Collecting train data for '+Image_label, frame) \n",
    "\n",
    "            #Save the capture image\n",
    "            cv2.imwrite(img_path,frame[52:248, 352:578])\n",
    "            i+=1\n",
    "            c = cv2.waitKey(1) \n",
    "            if c == 27: \n",
    "                break  \n",
    "        cap1.release()\n",
    "        cv2.destroyAllWindows()\n",
    "        \n",
    "        #Loop collecting data for testing equals to 20% of Train data\n",
    "        print(\"Collecting Images for testing data\")\n",
    "        time.sleep(1)\n",
    "        cap2 = cv2.VideoCapture(0)\n",
    "        for i in range(200):\n",
    "            ret, frame = cap2.read(0)\n",
    "            #Image name\n",
    "            imgname = str(i)+\".jpg\"\n",
    "            #Image full path location\n",
    "            img_path= test_image_path+imgname\n",
    "\n",
    "            cv2.putText(frame,str(i),(50,100),cv2.FONT_HERSHEY_SIMPLEX,1,(255,0,0))\n",
    "            cv2.rectangle(frame,pt1=(350,50),pt2=(580,250),thickness=2,color=(250,0,0))\n",
    "            cv2.imshow('Collecting Test data for '+Image_label, frame) \n",
    "\n",
    "            #Save the capture image\n",
    "            cv2.imwrite(img_path,frame[52:248, 352:578])\n",
    "            i+=1\n",
    "            c = cv2.waitKey(1) \n",
    "            if c == 27: \n",
    "                break  \n",
    "        cap2.release()\n",
    "        cv2.destroyAllWindows()\n",
    "        break"
   ]
  },
  {
   "cell_type": "code",
   "execution_count": null,
   "id": "dc36488a",
   "metadata": {},
   "outputs": [],
   "source": []
  }
 ],
 "metadata": {
  "kernelspec": {
   "display_name": "Python 3 (ipykernel)",
   "language": "python",
   "name": "python3"
  },
  "language_info": {
   "codemirror_mode": {
    "name": "ipython",
    "version": 3
   },
   "file_extension": ".py",
   "mimetype": "text/x-python",
   "name": "python",
   "nbconvert_exporter": "python",
   "pygments_lexer": "ipython3",
   "version": "3.9.9"
  }
 },
 "nbformat": 4,
 "nbformat_minor": 5
}
