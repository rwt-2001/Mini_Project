{
 "cells": [
  {
   "cell_type": "code",
   "execution_count": 1,
   "id": "6649ace8",
   "metadata": {},
   "outputs": [],
   "source": [
    "import cv2 \n",
    "import os\n",
    "import string"
   ]
  },
  {
   "cell_type": "code",
   "execution_count": 2,
   "id": "147c1cd0",
   "metadata": {},
   "outputs": [],
   "source": [
    "def process_img(img):\n",
    "    #Coversion to gray\n",
    "    gray = cv2.cvtColor(img, cv2.COLOR_BGR2GRAY)\n",
    "    \n",
    "    #Bilateral filtering\n",
    "    blur = cv2.bilateralFilter(gray,9,75,75)\n",
    "    \n",
    "    #Adative Thresholding\n",
    "    th3 = cv2.adaptiveThreshold(blur,255,cv2.ADAPTIVE_THRESH_GAUSSIAN_C,cv2.THRESH_BINARY_INV,11,2)\n",
    "    \n",
    "    #Noise Removal\n",
    "    closing = cv2.morphologyEx(th3,cv2.MORPH_CLOSE,None,iterations = 2)\n",
    "    \n",
    "    #Dilation\n",
    "    dilation = cv2.dilate(closing,None,iterations = 1)\n",
    "    \n",
    "    \n",
    "    #Threshold\n",
    "    ret, res = cv2.threshold(dilation, 0, 255,  cv2.THRESH_BINARY_INV)\n",
    "    \n",
    "    \n",
    "    return res"
   ]
  },
  {
   "cell_type": "code",
   "execution_count": 3,
   "id": "f43dbcbe",
   "metadata": {},
   "outputs": [],
   "source": [
    "parent_directory = \"./ProcessedData\""
   ]
  },
  {
   "cell_type": "code",
   "execution_count": 4,
   "id": "babcaa0e",
   "metadata": {},
   "outputs": [],
   "source": [
    "test = \"/Test\"\n",
    "train = \"/Train\"\n",
    "path_processed_train = parent_directory+train\n",
    "path_processed_test = parent_directory+test"
   ]
  },
  {
   "cell_type": "code",
   "execution_count": 5,
   "id": "e727c6a4",
   "metadata": {},
   "outputs": [],
   "source": [
    "#Create folders if not exist\n",
    "if not os.path.exists(parent_directory):\n",
    "    os.mkdir(parent_directory)\n",
    "if not os.path.exists(path_processed_train):\n",
    "    os.mkdir(path_processed_train)\n",
    "if not os.path.exists(path_processed_test):\n",
    "    os.mkdir(path_processed_test)"
   ]
  },
  {
   "cell_type": "code",
   "execution_count": 6,
   "id": "9336fc56",
   "metadata": {},
   "outputs": [
    {
     "data": {
      "text/plain": [
       "26"
      ]
     },
     "execution_count": 6,
     "metadata": {},
     "output_type": "execute_result"
    }
   ],
   "source": [
    "data_labels = list(string.ascii_uppercase)\n",
    "len(data_labels)"
   ]
  },
  {
   "cell_type": "markdown",
   "id": "b34f5079",
   "metadata": {},
   "source": [
    "# Function to preprocess the raw images collected"
   ]
  },
  {
   "cell_type": "code",
   "execution_count": 7,
   "id": "100f2bd5",
   "metadata": {},
   "outputs": [
    {
     "ename": "NameError",
     "evalue": "name 'Print' is not defined",
     "output_type": "error",
     "traceback": [
      "\u001b[1;31m---------------------------------------------------------------------------\u001b[0m",
      "\u001b[1;31mNameError\u001b[0m                                 Traceback (most recent call last)",
      "Input \u001b[1;32mIn [7]\u001b[0m, in \u001b[0;36m<cell line: 50>\u001b[1;34m()\u001b[0m\n\u001b[0;32m     46\u001b[0m             \u001b[38;5;66;03m#Defining processed image path\u001b[39;00m\n\u001b[0;32m     48\u001b[0m             cv2\u001b[38;5;241m.\u001b[39mimwrite(pros_img_path\u001b[38;5;241m+\u001b[39m\u001b[38;5;124m'\u001b[39m\u001b[38;5;124m/\u001b[39m\u001b[38;5;124m'\u001b[39m\u001b[38;5;241m+\u001b[39m\u001b[38;5;28mstr\u001b[39m(j)\u001b[38;5;241m+\u001b[39m\u001b[38;5;124m\"\u001b[39m\u001b[38;5;124m.jpg\u001b[39m\u001b[38;5;124m\"\u001b[39m,img)\n\u001b[1;32m---> 50\u001b[0m Print(\u001b[38;5;124m\"\u001b[39m\u001b[38;5;124mSuccessfully Processed the data\u001b[39m\u001b[38;5;124m\"\u001b[39m)\n",
      "\u001b[1;31mNameError\u001b[0m: name 'Print' is not defined"
     ]
    }
   ],
   "source": [
    "for i in range(len(data_labels)):\n",
    "    \n",
    "    #Process train data Note: There are 500 images for each label\n",
    "    if os.path.exists(\"./DataCollected/train/\"+data_labels[i]):\n",
    "        \n",
    "        #Processed image folder path\n",
    "        pros_img_path = path_processed_train+\"/\"+data_labels[i]\n",
    "        if not os.path.exists(pros_img_path):\n",
    "            os.mkdir(pros_img_path)\n",
    "        \n",
    "        #Unprocessed Image data path\n",
    "        unpros_img_path = \"./DataCollected/train/\"+data_labels[i]\n",
    "        \n",
    "        for j in range(500):\n",
    "            \n",
    "            #Read unprocessed data\n",
    "            img = cv2.imread(unpros_img_path+\"/\"+str(j)+\".jpg\")\n",
    "            \n",
    "            #Preprocessdata\n",
    "            img = process_img(img)\n",
    "            \n",
    "            #Defining processed image path\n",
    "            \n",
    "            cv2.imwrite(pros_img_path+'/'+str(j)+\".jpg\",img)\n",
    "            \n",
    "            \n",
    "    #Process test data Note: There are 200 images for each label\n",
    "    if os.path.exists(\"./DataCollected/test/\"+data_labels[i]):\n",
    "        \n",
    "        #Processed image folder path\n",
    "        pros_img_path = path_processed_test+\"/\"+data_labels[i]\n",
    "        if not os.path.exists(pros_img_path):\n",
    "            os.mkdir(pros_img_path)\n",
    "        \n",
    "        #Unprocessed Image data path\n",
    "        unpros_img_path = \"./DataCollected/test/\"+data_labels[i]\n",
    "        \n",
    "        for j in range(200):\n",
    "            \n",
    "            #Read unprocessed data\n",
    "            img = cv2.imread(unpros_img_path+\"/\"+str(j)+\".jpg\")\n",
    "            \n",
    "            #Preprocessdata\n",
    "            img = process_img(img)\n",
    "            \n",
    "            #Defining processed image path\n",
    "            \n",
    "            cv2.imwrite(pros_img_path+'/'+str(j)+\".jpg\",img)\n",
    "\n",
    "print(\"Successfully Processed the data\")        "
   ]
  },
  {
   "cell_type": "code",
   "execution_count": null,
   "id": "2c9dd11e",
   "metadata": {},
   "outputs": [],
   "source": []
  }
 ],
 "metadata": {
  "kernelspec": {
   "display_name": "Python 3 (ipykernel)",
   "language": "python",
   "name": "python3"
  },
  "language_info": {
   "codemirror_mode": {
    "name": "ipython",
    "version": 3
   },
   "file_extension": ".py",
   "mimetype": "text/x-python",
   "name": "python",
   "nbconvert_exporter": "python",
   "pygments_lexer": "ipython3",
   "version": "3.10.2"
  }
 },
 "nbformat": 4,
 "nbformat_minor": 5
}
