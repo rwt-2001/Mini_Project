{
 "cells": [
  {
   "cell_type": "code",
   "execution_count": 1,
   "id": "04961652",
   "metadata": {},
   "outputs": [],
   "source": [
    "# Importing the Keras libraries and packages\n",
    "from keras.models import Sequential\n",
    "from keras.layers import Convolution2D\n",
    "from keras.layers import MaxPooling2D\n",
    "from keras.layers import Flatten\n",
    "from keras.layers import Dense , Dropout\n",
    "import os, string\n",
    "import matplotlib.pyplot as plt"
   ]
  },
  {
   "cell_type": "code",
   "execution_count": 2,
   "id": "991a30ce",
   "metadata": {},
   "outputs": [],
   "source": [
    "sz = 200\n",
    "# Step 1 - Building the CNN\n",
    "\n",
    "# Initializing the CNN\n",
    "classifier = Sequential()\n",
    "\n",
    "# First convolution layer and pooling\n",
    "classifier.add(Convolution2D(32, (3, 3), input_shape=(sz, sz, 1), activation='relu'))\n",
    "classifier.add(MaxPooling2D(pool_size=(2, 2)))\n",
    "\n",
    "# Second convolution layer and pooling\n",
    "classifier.add(Convolution2D(32, (3, 3), activation='relu'))\n",
    "# input_shape is going to be the pooled feature maps from the previous convolution layer\n",
    "classifier.add(MaxPooling2D(pool_size=(2, 2)))\n",
    "\n",
    "# third convolution layer and pooling\n",
    "classifier.add(Convolution2D(32, (3, 3), activation='relu'))\n",
    "# input_shape is going to be the pooled feature maps from the previous convolution layer\n",
    "classifier.add(MaxPooling2D(pool_size=(2, 2)))\n",
    "# Flattening the layers\n",
    "classifier.add(Flatten())\n",
    "\n",
    "# Adding a fully connected layer\n",
    "#units changed 128 to 400 - 500 - 200\n",
    "classifier.add(Dense(units=200, activation='relu'))\n",
    "classifier.add(Dropout(0.40))\n",
    "#units changed 96 to 800 - 300 - 150\n",
    "classifier.add(Dense(units=150, activation='relu'))\n",
    "classifier.add(Dropout(0.40))\n",
    "classifier.add(Dense(units=64, activation='relu'))\n",
    "classifier.add(Dense(units=26, activation='softmax')) # softmax for more than 2\n",
    "\n",
    "# Compiling the CNN\n",
    "classifier.compile(optimizer='adam', loss='categorical_crossentropy', metrics=['accuracy']) # categorical_crossentropy for more than 2\n"
   ]
  },
  {
   "cell_type": "code",
   "execution_count": 3,
   "id": "e91e09ad",
   "metadata": {},
   "outputs": [
    {
     "name": "stdout",
     "output_type": "stream",
     "text": [
      "Model: \"sequential\"\n",
      "_________________________________________________________________\n",
      " Layer (type)                Output Shape              Param #   \n",
      "=================================================================\n",
      " conv2d (Conv2D)             (None, 198, 198, 32)      320       \n",
      "                                                                 \n",
      " max_pooling2d (MaxPooling2D  (None, 99, 99, 32)       0         \n",
      " )                                                               \n",
      "                                                                 \n",
      " conv2d_1 (Conv2D)           (None, 97, 97, 32)        9248      \n",
      "                                                                 \n",
      " max_pooling2d_1 (MaxPooling  (None, 48, 48, 32)       0         \n",
      " 2D)                                                             \n",
      "                                                                 \n",
      " conv2d_2 (Conv2D)           (None, 46, 46, 32)        9248      \n",
      "                                                                 \n",
      " max_pooling2d_2 (MaxPooling  (None, 23, 23, 32)       0         \n",
      " 2D)                                                             \n",
      "                                                                 \n",
      " flatten (Flatten)           (None, 16928)             0         \n",
      "                                                                 \n",
      " dense (Dense)               (None, 200)               3385800   \n",
      "                                                                 \n",
      " dropout (Dropout)           (None, 200)               0         \n",
      "                                                                 \n",
      " dense_1 (Dense)             (None, 150)               30150     \n",
      "                                                                 \n",
      " dropout_1 (Dropout)         (None, 150)               0         \n",
      "                                                                 \n",
      " dense_2 (Dense)             (None, 64)                9664      \n",
      "                                                                 \n",
      " dense_3 (Dense)             (None, 26)                1690      \n",
      "                                                                 \n",
      "=================================================================\n",
      "Total params: 3,446,120\n",
      "Trainable params: 3,446,120\n",
      "Non-trainable params: 0\n",
      "_________________________________________________________________\n"
     ]
    }
   ],
   "source": [
    "# Step 2 - Preparing the train/test data and training the model\n",
    "classifier.summary()"
   ]
  },
  {
   "cell_type": "code",
   "execution_count": 4,
   "id": "85770880",
   "metadata": {},
   "outputs": [],
   "source": [
    "from keras.preprocessing.image import ImageDataGenerator\n",
    "\n",
    "train_datagen = ImageDataGenerator(\n",
    "        rotation_range=10, # rotate the image 30 degrees\n",
    "        width_shift_range=0.1, # Shift the pic width by a max of 10%\n",
    "        height_shift_range=0.1, # Shift the pic height by a max of 10%\n",
    "        rescale=1/255, # Rescale the image by normalzing it.\n",
    "        shear_range=0.2, # Shear means cutting away part of the image (max 20%)\n",
    "        zoom_range=0.2, # Zoom in by 20% max\n",
    "        horizontal_flip=True, # Allo horizontal flipping\n",
    "        fill_mode='nearest' # Fill in missing pixels with the nearest filled value\n",
    "        )\n",
    "test_datagen = ImageDataGenerator(rescale=1./255,\n",
    "                                  shear_range=0.15,\n",
    "                                  zoom_range=0.1,\n",
    "                                  width_shift_range=0.15,\n",
    "                                  height_shift_range=0.1,\n",
    "                                  fill_mode='nearest')"
   ]
  },
  {
   "cell_type": "code",
   "execution_count": 5,
   "id": "58f031a9",
   "metadata": {},
   "outputs": [
    {
     "name": "stdout",
     "output_type": "stream",
     "text": [
      "Found 13000 images belonging to 26 classes.\n",
      "Found 5200 images belonging to 26 classes.\n"
     ]
    }
   ],
   "source": [
    "training_set = train_datagen.flow_from_directory('./ProcessedData/train',\n",
    "                                                 target_size=(sz, sz),\n",
    "                                                 batch_size=10,\n",
    "                                                 color_mode='grayscale',\n",
    "                                                 class_mode='categorical')\n",
    "\n",
    "test_set = test_datagen.flow_from_directory('./ProcessedData/test',\n",
    "                                            target_size=(sz , sz),\n",
    "                                            batch_size=10,\n",
    "                                            color_mode='grayscale',\n",
    "                                            class_mode='categorical') "
   ]
  },
  {
   "cell_type": "code",
   "execution_count": 6,
   "id": "c4ab8c78",
   "metadata": {},
   "outputs": [
    {
     "data": {
      "text/plain": [
       "{'A': 0,\n",
       " 'B': 1,\n",
       " 'C': 2,\n",
       " 'D': 3,\n",
       " 'E': 4,\n",
       " 'F': 5,\n",
       " 'G': 6,\n",
       " 'H': 7,\n",
       " 'I': 8,\n",
       " 'J': 9,\n",
       " 'K': 10,\n",
       " 'L': 11,\n",
       " 'M': 12,\n",
       " 'N': 13,\n",
       " 'O': 14,\n",
       " 'P': 15,\n",
       " 'Q': 16,\n",
       " 'R': 17,\n",
       " 'S': 18,\n",
       " 'T': 19,\n",
       " 'U': 20,\n",
       " 'V': 21,\n",
       " 'W': 22,\n",
       " 'X': 23,\n",
       " 'Y': 24,\n",
       " 'Z': 25}"
      ]
     },
     "execution_count": 6,
     "metadata": {},
     "output_type": "execute_result"
    }
   ],
   "source": [
    "training_set.class_indices"
   ]
  },
  {
   "cell_type": "code",
   "execution_count": 7,
   "id": "40339f20",
   "metadata": {},
   "outputs": [
    {
     "data": {
      "text/plain": [
       "{'A': 0,\n",
       " 'B': 1,\n",
       " 'C': 2,\n",
       " 'D': 3,\n",
       " 'E': 4,\n",
       " 'F': 5,\n",
       " 'G': 6,\n",
       " 'H': 7,\n",
       " 'I': 8,\n",
       " 'J': 9,\n",
       " 'K': 10,\n",
       " 'L': 11,\n",
       " 'M': 12,\n",
       " 'N': 13,\n",
       " 'O': 14,\n",
       " 'P': 15,\n",
       " 'Q': 16,\n",
       " 'R': 17,\n",
       " 'S': 18,\n",
       " 'T': 19,\n",
       " 'U': 20,\n",
       " 'V': 21,\n",
       " 'W': 22,\n",
       " 'X': 23,\n",
       " 'Y': 24,\n",
       " 'Z': 25}"
      ]
     },
     "execution_count": 7,
     "metadata": {},
     "output_type": "execute_result"
    }
   ],
   "source": [
    "test_set.class_indices"
   ]
  },
  {
   "cell_type": "code",
   "execution_count": 8,
   "id": "af3fda0f",
   "metadata": {},
   "outputs": [
    {
     "name": "stdout",
     "output_type": "stream",
     "text": [
      "Epoch 1/10\n",
      "449/449 [==============================] - 116s 258ms/step - loss: 2.3668 - accuracy: 0.2824 - val_loss: 1.0020 - val_accuracy: 0.6989\n",
      "Epoch 2/10\n",
      "449/449 [==============================] - 116s 259ms/step - loss: 0.8516 - accuracy: 0.7232 - val_loss: 0.4695 - val_accuracy: 0.8453\n",
      "Epoch 3/10\n",
      "449/449 [==============================] - 116s 258ms/step - loss: 0.5506 - accuracy: 0.8241 - val_loss: 0.3754 - val_accuracy: 0.8768\n",
      "Epoch 4/10\n",
      "449/449 [==============================] - 112s 249ms/step - loss: 0.3850 - accuracy: 0.8686 - val_loss: 0.3571 - val_accuracy: 0.8932\n",
      "Epoch 5/10\n",
      "449/449 [==============================] - 115s 256ms/step - loss: 0.3314 - accuracy: 0.8940 - val_loss: 0.3025 - val_accuracy: 0.9184\n",
      "Epoch 6/10\n",
      "449/449 [==============================] - 113s 252ms/step - loss: 0.2823 - accuracy: 0.9069 - val_loss: 0.2552 - val_accuracy: 0.9289\n",
      "Epoch 7/10\n",
      "449/449 [==============================] - 114s 254ms/step - loss: 0.2230 - accuracy: 0.9278 - val_loss: 0.2568 - val_accuracy: 0.9426\n",
      "Epoch 8/10\n",
      "449/449 [==============================] - 114s 254ms/step - loss: 0.2111 - accuracy: 0.9332 - val_loss: 0.2669 - val_accuracy: 0.9305\n",
      "Epoch 9/10\n",
      "449/449 [==============================] - 112s 250ms/step - loss: 0.2019 - accuracy: 0.9334 - val_loss: 0.2205 - val_accuracy: 0.9442\n",
      "Epoch 10/10\n",
      "449/449 [==============================] - 110s 246ms/step - loss: 0.1633 - accuracy: 0.9457 - val_loss: 0.1673 - val_accuracy: 0.9532\n"
     ]
    }
   ],
   "source": [
    "history = classifier.fit(\n",
    "        training_set,\n",
    "        steps_per_epoch=449, \n",
    "        epochs=10,\n",
    "        validation_data=test_set,\n",
    "        validation_steps=190)"
   ]
  },
  {
   "cell_type": "code",
   "execution_count": 82,
   "id": "1a816059",
   "metadata": {},
   "outputs": [],
   "source": [
    "import numpy as np\n",
    "from keras.preprocessing import image\n",
    "import matplotlib.pyplot as plt\n",
    "import cv2\n",
    "#Importing testing image\n",
    "test_file = './ProcessedData/Test/O/90.jpg'\n",
    "test_img = image.load_img(test_file,target_size=(200, 200))\n",
    "test_img = image.img_to_array(test_img)\n",
    "test_img = cv2.cvtColor(np.array(test_img),cv2.COLOR_RGB2GRAY)"
   ]
  },
  {
   "cell_type": "code",
   "execution_count": 83,
   "id": "3e39d378",
   "metadata": {},
   "outputs": [
    {
     "data": {
      "text/plain": [
       "(200, 200)"
      ]
     },
     "execution_count": 83,
     "metadata": {},
     "output_type": "execute_result"
    }
   ],
   "source": [
    "test_img.shape"
   ]
  },
  {
   "cell_type": "code",
   "execution_count": 84,
   "id": "42239362",
   "metadata": {},
   "outputs": [],
   "source": [
    "test_img = np.expand_dims(test_img, axis=0)\n",
    "test_img = test_img/255"
   ]
  },
  {
   "cell_type": "code",
   "execution_count": 85,
   "id": "5fd9a8b0",
   "metadata": {},
   "outputs": [],
   "source": [
    "prediction_prob = classifier.predict(test_img)"
   ]
  },
  {
   "cell_type": "code",
   "execution_count": 86,
   "id": "8222ab08",
   "metadata": {},
   "outputs": [
    {
     "data": {
      "text/plain": [
       "array([[3.7074392e-04, 7.3116802e-09, 1.0182193e-06, 1.9247473e-05,\n",
       "        2.7202714e-14, 9.0756992e-13, 1.3582324e-10, 1.3452343e-08,\n",
       "        6.5049144e-10, 2.5207953e-15, 9.1436754e-12, 2.2650744e-13,\n",
       "        3.9704760e-11, 7.2058405e-12, 9.9958676e-01, 2.1284053e-05,\n",
       "        1.6303677e-09, 4.0162290e-11, 5.4042528e-07, 1.9722147e-07,\n",
       "        4.4554817e-08, 1.1456573e-09, 1.5322382e-08, 5.8045856e-08,\n",
       "        2.9800531e-10, 2.1971114e-09]], dtype=float32)"
      ]
     },
     "execution_count": 86,
     "metadata": {},
     "output_type": "execute_result"
    }
   ],
   "source": [
    "prediction_prob"
   ]
  },
  {
   "cell_type": "code",
   "execution_count": 87,
   "id": "93b8babc",
   "metadata": {},
   "outputs": [
    {
     "data": {
      "text/plain": [
       "14"
      ]
     },
     "execution_count": 87,
     "metadata": {},
     "output_type": "execute_result"
    }
   ],
   "source": [
    "np.argmax(prediction_prob)"
   ]
  },
  {
   "cell_type": "code",
   "execution_count": 88,
   "id": "97e64488",
   "metadata": {},
   "outputs": [],
   "source": [
    "classes = list(string.ascii_uppercase)"
   ]
  },
  {
   "cell_type": "code",
   "execution_count": 89,
   "id": "43dcfcaa",
   "metadata": {},
   "outputs": [
    {
     "data": {
      "text/plain": [
       "'O'"
      ]
     },
     "execution_count": 89,
     "metadata": {},
     "output_type": "execute_result"
    }
   ],
   "source": [
    "classes[np.argmax(prediction_prob)]"
   ]
  },
  {
   "cell_type": "code",
   "execution_count": 17,
   "id": "eecb2763",
   "metadata": {},
   "outputs": [],
   "source": [
    "#saving the model\n",
    "import os\n",
    "if not os.path.exists(\"./Model\"):\n",
    "    os.mkdir(\"./Model\")\n",
    "classifier.save(\"./Model/Sign_classifier.h5\")"
   ]
  },
  {
   "cell_type": "code",
   "execution_count": 18,
   "id": "ae4d6acf",
   "metadata": {},
   "outputs": [
    {
     "name": "stdout",
     "output_type": "stream",
     "text": [
      "json model saved\n",
      "Weights saved\n"
     ]
    }
   ],
   "source": [
    "classifier_Json = classifier.to_json()\n",
    "with open(\"./Model/classifier_json.json\", \"w\") as json_file:\n",
    "    json_file.write(classifier_Json)\n",
    "print('json model saved')\n",
    "classifier.save_weights('./Model/classifier_weights.h5')\n",
    "print('Weights saved')"
   ]
  },
  {
   "cell_type": "markdown",
   "id": "f3e13cbd",
   "metadata": {},
   "source": [
    "# Classifier Building - Completed"
   ]
  },
  {
   "cell_type": "code",
   "execution_count": 19,
   "id": "5ed5fd1d",
   "metadata": {},
   "outputs": [],
   "source": [
    "from tensorflow.keras.models import model_from_json"
   ]
  },
  {
   "cell_type": "code",
   "execution_count": 20,
   "id": "2376dccd",
   "metadata": {},
   "outputs": [],
   "source": [
    "model_json = None\n",
    "with open(\"./Model/classifier_json.json\", \"r\") as file:\n",
    "    model_json = file.read()\n",
    "loaded_model = model_from_json(model_json)\n",
    "loaded_model.load_weights('./Model/classifier_weights.h5')"
   ]
  },
  {
   "cell_type": "code",
   "execution_count": 91,
   "id": "836d6f6e",
   "metadata": {},
   "outputs": [],
   "source": [
    "pred = classifier.predict(test_set)"
   ]
  },
  {
   "cell_type": "code",
   "execution_count": 95,
   "id": "53585f3c",
   "metadata": {},
   "outputs": [
    {
     "data": {
      "image/png": "[encoded data removed]",
      "text/plain": [
       "<Figure size 432x288 with 1 Axes>"
      ]
     },
     "metadata": {
      "needs_background": "light"
     },
     "output_type": "display_data"
    }
   ],
   "source": [
    "loss_train = history.history['loss']\n",
    "loss_val = history.history['val_loss']\n",
    "epochs = range(0,10)\n",
    "plt.plot(epochs, loss_train, 'g', label='Training loss')\n",
    "plt.plot(epochs, loss_val, 'b', label='validation loss')\n",
    "plt.title('Training and Validation loss')\n",
    "plt.xlabel('Epochs')\n",
    "plt.ylabel('Loss')\n",
    "plt.legend()\n",
    "plt.show()"
   ]
  },
  {
   "cell_type": "code",
   "execution_count": 94,
   "id": "cdd6f3f9",
   "metadata": {
    "scrolled": true
   },
   "outputs": [
    {
     "data": {
      "image/png": "[encoded data removed]",
      "text/plain": [
       "<Figure size 432x288 with 1 Axes>"
      ]
     },
     "metadata": {
      "needs_background": "light"
     },
     "output_type": "display_data"
    }
   ],
   "source": [
    "train_accuracy = history.history['accuracy']\n",
    "val_accuracy = history.history['val_accuracy']\n",
    "epochs = range(0,10)\n",
    "plt.plot(epochs, train_accuracy, 'g', label='Training accuracy')\n",
    "plt.plot(epochs, val_accuracy, 'b', label='validation accuracy')\n",
    "plt.title('Training and Validation accuracy')\n",
    "plt.xlabel('Epochs')\n",
    "plt.ylabel('Accuracy')\n",
    "plt.legend()\n",
    "plt.show()"
   ]
  },
  {
   "cell_type": "code",
   "execution_count": null,
   "id": "a9c8e12b",
   "metadata": {},
   "outputs": [],
   "source": []
  }
 ],
 "metadata": {
  "kernelspec": {
   "display_name": "Python 3 (ipykernel)",
   "language": "python",
   "name": "python3"
  },
  "language_info": {
   "codemirror_mode": {
    "name": "ipython",
    "version": 3
   },
   "file_extension": ".py",
   "mimetype": "text/x-python",
   "name": "python",
   "nbconvert_exporter": "python",
   "pygments_lexer": "ipython3",
   "version": "3.10.2"
  }
 },
 "nbformat": 4,
 "nbformat_minor": 5
}
