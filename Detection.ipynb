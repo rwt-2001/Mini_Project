{
 "cells": [
  {
   "cell_type": "code",
   "execution_count": 1,
   "id": "c9981745",
   "metadata": {},
   "outputs": [],
   "source": [
    "import cv2 \n",
    "import numpy as np\n",
    "from Image_preprocessing import process_img"
   ]
  },
  {
   "cell_type": "code",
   "execution_count": 10,
   "id": "8997359e",
   "metadata": {},
   "outputs": [],
   "source": [
    "cap = cv2.VideoCapture(0)\n",
    "\n",
    "while True:\n",
    "    ret, frame = cap.read(0)\n",
    "    cv2.rectangle(frame,pt1=(350,50),pt2=(580,250),thickness=2,color=(250,0,0))\n",
    "    \n",
    "    \n",
    "    #Sign will be returned by classifier or model\n",
    "    sign_Alphabet = \"Null\"\n",
    "    #Part of frame where hand sign has to be made\n",
    "    sign = frame[52:248, 352:578]\n",
    "    \n",
    "    cv2.putText(frame,sign_Alphabet,(50,100),cv2.FONT_HERSHEY_SIMPLEX,1,(255,0,0),thickness=2)\n",
    "    cv2.imshow(\"Detection\",frame)\n",
    "    c = cv2.waitKey(1)\n",
    "    if c==27:\n",
    "        break\n",
    "cap.release()\n",
    "cv2.destroyAllWindows()"
   ]
  },
  {
   "cell_type": "code",
   "execution_count": null,
   "id": "4114b861",
   "metadata": {},
   "outputs": [],
   "source": []
  }
 ],
 "metadata": {
  "kernelspec": {
   "display_name": "Python 3 (ipykernel)",
   "language": "python",
   "name": "python3"
  },
  "language_info": {
   "codemirror_mode": {
    "name": "ipython",
    "version": 3
   },
   "file_extension": ".py",
   "mimetype": "text/x-python",
   "name": "python",
   "nbconvert_exporter": "python",
   "pygments_lexer": "ipython3",
   "version": "3.9.9"
  }
 },
 "nbformat": 4,
 "nbformat_minor": 5
}
