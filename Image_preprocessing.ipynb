{
 "cells": [
  {
   "cell_type": "code",
   "execution_count": null,
   "id": "c9e6194f",
   "metadata": {},
   "outputs": [],
   "source": [
    "import cv2\n",
    "import numpy as np"
   ]
  },
  {
   "cell_type": "code",
   "execution_count": null,
   "id": "2fdbdb73",
   "metadata": {},
   "outputs": [],
   "source": [
    "def process_img(img):\n",
    "    #Coversion to gray\n",
    "    gray = cv2.cvtColor(img, cv2.COLOR_BGR2GRAY)\n",
    "    \n",
    "    #Bilateral filtering\n",
    "    blur = cv2.bilateralFilter(gray,9,75,75)\n",
    "    \n",
    "    #Adative Thresholding\n",
    "    th3 = cv2.adaptiveThreshold(blur,255,cv2.ADAPTIVE_THRESH_GAUSSIAN_C,cv2.THRESH_BINARY_INV,11,2)\n",
    "    \n",
    "    #Noise Removal\n",
    "    closing = cv2.morphologyEx(th3,cv2.MORPH_CLOSE,None,iterations = 2)\n",
    "    \n",
    "    #Dilation\n",
    "    dilation = cv2.dilate(closing,None,iterations = 1)\n",
    "    \n",
    "    \n",
    "    #Threshold\n",
    "    ret, res = cv2.threshold(dilation, 0, 255,  cv2.THRESH_BINARY_INV)\n",
    "    \n",
    "    \n",
    "    return res"
   ]
  },
  {
   "cell_type": "code",
   "execution_count": null,
   "id": "6b9cad24",
   "metadata": {},
   "outputs": [],
   "source": [
    "def process_img_secondary(img):\n",
    "    gray = cv2.cvtColor(img, cv2.COLOR_BGR2GRAY)\n",
    "    blur = cv2.GaussianBlur(gray,(5,5),19)\n",
    "    th3 = cv2.adaptiveThreshold(blur,255,cv2.ADAPTIVE_THRESH_GAUSSIAN_C,cv2.THRESH_BINARY_INV,11,2)\n",
    "    ret, res = cv2.threshold(th3, 0, 255, cv2.THRESH_BINARY_INV+cv2.THRESH_OTSU)\n",
    "    return res"
   ]
  },
  {
   "cell_type": "markdown",
   "id": "9c1de896",
   "metadata": {},
   "source": [
    "# Testing preprocessing Methods"
   ]
  },
  {
   "cell_type": "code",
   "execution_count": null,
   "id": "accd37df",
   "metadata": {},
   "outputs": [],
   "source": [
    "img = cv2.imread(\"../Testing1.jpg\")\n",
    "type(img)"
   ]
  },
  {
   "cell_type": "code",
   "execution_count": null,
   "id": "7849dced",
   "metadata": {},
   "outputs": [],
   "source": [
    "import matplotlib.pyplot as plt"
   ]
  },
  {
   "cell_type": "code",
   "execution_count": null,
   "id": "5cc45d57",
   "metadata": {
    "scrolled": true
   },
   "outputs": [],
   "source": [
    "plt.imshow(img)"
   ]
  },
  {
   "cell_type": "code",
   "execution_count": null,
   "id": "c8b96173",
   "metadata": {},
   "outputs": [],
   "source": [
    "img1 = process_img(img)\n",
    "img2 = process_img_secondary(img)"
   ]
  },
  {
   "cell_type": "code",
   "execution_count": null,
   "id": "62471656",
   "metadata": {},
   "outputs": [],
   "source": [
    "plt.imshow(img1,'gray')"
   ]
  },
  {
   "cell_type": "code",
   "execution_count": null,
   "id": "f8117c29",
   "metadata": {},
   "outputs": [],
   "source": [
    "plt.imshow(img2,'gray')"
   ]
  },
  {
   "cell_type": "code",
   "execution_count": null,
   "id": "f058eb85",
   "metadata": {},
   "outputs": [],
   "source": []
  }
 ],
 "metadata": {
  "kernelspec": {
   "display_name": "Python 3 (ipykernel)",
   "language": "python",
   "name": "python3"
  },
  "language_info": {
   "codemirror_mode": {
    "name": "ipython",
    "version": 3
   },
   "file_extension": ".py",
   "mimetype": "text/x-python",
   "name": "python",
   "nbconvert_exporter": "python",
   "pygments_lexer": "ipython3",
   "version": "3.9.9"
  }
 },
 "nbformat": 4,
 "nbformat_minor": 5
}
